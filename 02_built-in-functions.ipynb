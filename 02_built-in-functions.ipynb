{
 "cells": [
  {
   "cell_type": "markdown",
   "metadata": {},
   "source": [
    "# Built-In Functions"
   ]
  },
  {
   "cell_type": "markdown",
   "metadata": {},
   "source": [
    "**Math**\n",
    "* `abs()`: Returns absolute value of a number\n",
    "* `divmod()`: Returns quotient and remainder of integer division\n",
    "* `max()`: Returns the largest of the given arguments or items in an iterable\n",
    "* `min()`: Returns the smallest of the given arguments or items in an iterable\n",
    "* `pow()`: Raises a number to a power\n",
    "* `round()`: Rounds a floating-point value\n",
    "* `sum()`: Sums the items of an iterable\n",
    "\n",
    "**Type Conversion**\n",
    "* `ascii()`: Returns a string containing a printable representation of an object\n",
    "* `bin()`: Converts an integer to a binary string\n",
    "* `bool()`: Converts an argument to a Boolean value\n",
    "* `chr()`: Returns string representation of character given by integer argument\n",
    "* `complex()`: Returns a complex number constructed from arguments\n",
    "* `float()`: Returns a floating-point object constructed from a number or string\n",
    "* `hex()`: Converts an integer to a hexadecimal string\n",
    "* `int()`: Returns an integer object constructed from a number or string\n",
    "* `oct()`: Converts an integer to an octal string\n",
    "* `ord()`: Returns integer representation of a character\n",
    "* `repr()`: Returns a string containing a printable representation of an object\n",
    "* `str()`: Returns a string version of an object\n",
    "* `type()`: Returns the type of an object or creates a new type object\n",
    "\n",
    "**Iteratable and Iterattors**\n",
    "* `enumerate()`: Returns a list of tuples containing indices and values from an iterable\n",
    "* `len()`: Returns the length of an object\n",
    "* `range()`: Generates a range of integer values\n",
    "* `reversed()`: Returns a reverse iterator\n",
    "* `sorted()`: Returns a sorted list from an iterable\n",
    "\n",
    "**Composite Data Type**\n",
    "* `dict()`: Creates a `dict` object\n",
    "* `list()`: Constructs a `list` object\n",
    "* `set()`: Creates a `set` object\n",
    "* `tuple()`: Creates a `tuple` object\n",
    "\n",
    "**Input/Output**\n",
    "* `format()`: Converts a value to a formatted representation\n",
    "* `input()`: Reads input from the console\n",
    "* `open()`: Opens a file and returns a file object\n",
    "* `print()`: Prints to a text stream or the console\n",
    "\n",
    "**Variables, References, and Scope**\n",
    "* `dir()`: Returns a list of names in current local scope or a list of object attributes\n",
    "* `globals()`: Returns a dictionary representing the current global symbol table\n",
    "* `id()`: Returns the identity of an object\n",
    "* `locals()`: Updates and returns a dictionary representing current local symbol table\n",
    "* `vars()`: Returns \\_\\_dict\\_\\_ attribute for a module, class, or object\n",
    "\n",
    "**Miscellaneous**\n",
    "* `help()`: Invokes the built-in help system"
   ]
  }
 ],
 "metadata": {
  "kernelspec": {
   "display_name": "Python 3",
   "language": "python",
   "name": "python3"
  },
  "language_info": {
   "codemirror_mode": {
    "name": "ipython",
    "version": 3
   },
   "file_extension": ".py",
   "mimetype": "text/x-python",
   "name": "python",
   "nbconvert_exporter": "python",
   "pygments_lexer": "ipython3",
   "version": "3.6.6"
  }
 },
 "nbformat": 4,
 "nbformat_minor": 2
}
